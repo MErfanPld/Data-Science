{
 "cells": [
  {
   "cell_type": "markdown",
   "id": "ee8ad38c",
   "metadata": {},
   "source": [
    "## ازمون های میانگین"
   ]
  },
  {
   "cell_type": "code",
   "execution_count": 1,
   "id": "73eaaa37",
   "metadata": {},
   "outputs": [
    {
     "name": "stdout",
     "output_type": "stream",
     "text": [
      "data1: mean=49.599 stdv=5.101\n",
      "data2: mean=51.286 stdv=4.170\n"
     ]
    }
   ],
   "source": [
    "# تولید دیتای تصادفی\n",
    "from numpy.random import randn, seed\n",
    "from numpy import mean, std\n",
    "\n",
    "# برای تولید دیتای تصادفی\n",
    "seed(1)\n",
    "\n",
    "# تولید دو دسته از مشاهدات تک متغیره\n",
    "data1 = 5 * randn(29) + 50\n",
    "data2 = 5 * randn(29) + 51\n",
    "\n",
    "# خلاصه سازی\n",
    "print('data1: mean=%.3f stdv=%.3f' % (mean(data1), std(data1)))\n",
    "print('data2: mean=%.3f stdv=%.3f' % (mean(data2), std(data2)))"
   ]
  },
  {
   "cell_type": "code",
   "execution_count": null,
   "id": "4685e597",
   "metadata": {},
   "outputs": [],
   "source": []
  },
  {
   "cell_type": "markdown",
   "id": "55ee6ad0",
   "metadata": {},
   "source": [
    "# 1. آزمون استودنت تی - تست"
   ]
  },
  {
   "cell_type": "code",
   "execution_count": 8,
   "id": "5a9ce882",
   "metadata": {},
   "outputs": [
    {
     "name": "stdout",
     "output_type": "stream",
     "text": [
      "Statistics=-1.355, p=0.181\n",
      "دارای توزیع مشابه (عدم رد فرضیه اولیه)\n"
     ]
    }
   ],
   "source": [
    "# آزمون تی تست\n",
    "from numpy.random import seed\n",
    "from numpy.random import randn\n",
    "from scipy.stats import ttest_ind\n",
    "\n",
    "# برای تولید دیتای تصادفی\n",
    "seed(1)\n",
    "\n",
    "#مشاهدات تک متغیره  تولید \n",
    "data1 = 5 * randn(29) + 50\n",
    "data2 = 5 * randn(29) + 51\n",
    "\n",
    "# مقایسه مشاهدات\n",
    "stat, p = ttest_ind(data1, data2)\n",
    "print('Statistics=%.3f, p=%.3f' % (stat, p))\n",
    "\n",
    "# تفسیر\n",
    "alpha = 0.05\n",
    "if p > alpha:\n",
    "    print('دارای توزیع مشابه (عدم رد فرضیه اولیه)')\n",
    "else:\n",
    "    print('دارای توزیع متفاوت (رد فرضیه اولیه)')"
   ]
  },
  {
   "cell_type": "code",
   "execution_count": null,
   "id": "86d845c0",
   "metadata": {},
   "outputs": [],
   "source": []
  },
  {
   "cell_type": "markdown",
   "id": "a3d4ee2d",
   "metadata": {},
   "source": [
    "### آزمون زوجی استودنت تی تست"
   ]
  },
  {
   "cell_type": "code",
   "execution_count": 9,
   "id": "c4fc273b",
   "metadata": {},
   "outputs": [
    {
     "name": "stdout",
     "output_type": "stream",
     "text": [
      "Statistics=-1.520, p=0.140\n",
      "دارای توزیع مشابه (عدم رد فرضیه اولیه)\n"
     ]
    }
   ],
   "source": [
    "# آزمون زوجی تی تست\n",
    "from numpy.random import seed\n",
    "from numpy.random import randn\n",
    "from scipy.stats import ttest_rel\n",
    "\n",
    "# برای تولید دیتای تصادفی\n",
    "seed(1)\n",
    "\n",
    "# تولید دو نمونه مستقل\n",
    "data1 = 5 * randn(29) + 50\n",
    "data2 = 5 * randn(29) + 51\n",
    "\n",
    "#مشاهدات تک متغیره  تولید \n",
    "stat, p = ttest_rel(data1, data2)\n",
    "print('Statistics=%.3f, p=%.3f' % (stat, p))\n",
    "\n",
    "# تفسیر\n",
    "alpha = 0.05\n",
    "if p > alpha:\n",
    "    print('دارای توزیع مشابه (عدم رد فرضیه اولیه)')\n",
    "else:\n",
    "    print('دارای توزیع متفاوت (رد فرضیه اولیه)')"
   ]
  },
  {
   "cell_type": "code",
   "execution_count": null,
   "id": "c5a1248d",
   "metadata": {},
   "outputs": [],
   "source": []
  },
  {
   "cell_type": "markdown",
   "id": "65568870",
   "metadata": {},
   "source": [
    "###  Anova یک طرفه\n"
   ]
  },
  {
   "cell_type": "code",
   "execution_count": 10,
   "id": "be9c9444",
   "metadata": {},
   "outputs": [
    {
     "name": "stdout",
     "output_type": "stream",
     "text": [
      "Statistics=10.035, p=0.000\n",
      "دارای توزیع متفاوت (رد فرضیه اولیه)\n"
     ]
    }
   ],
   "source": [
    "# Anova یک طرفه\n",
    "from numpy.random import seed\n",
    "from numpy.random import randn\n",
    "from scipy.stats import f_oneway\n",
    "\n",
    "# برای تولید دیتای تصادفی\n",
    "seed(1)\n",
    "\n",
    "# تولید سه نمونه مستقل\n",
    "data1 = 5 * randn(100) + 50\n",
    "data2 = 5 * randn(100) + 52\n",
    "data3 = 5 * randn(100) + 50\n",
    "\n",
    "#مشاهدات تک متغیره  تولید \n",
    "stat, p = f_oneway(data1, data2, data3)\n",
    "print('Statistics=%.3f, p=%.3f' % (stat, p))\n",
    "\n",
    "# تفسیر\n",
    "alpha = 0.05\n",
    "if p > alpha:\n",
    "    print('دارای توزیع مشابه (عدم رد فرضیه اولیه)')\n",
    "else:\n",
    "    print('دارای توزیع متفاوت (رد فرضیه اولیه)')"
   ]
  },
  {
   "cell_type": "code",
   "execution_count": null,
   "id": "3cfb5bc3",
   "metadata": {},
   "outputs": [],
   "source": []
  },
  {
   "cell_type": "markdown",
   "id": "82c029ae",
   "metadata": {},
   "source": [
    "# آزمون های توزیع نرمال"
   ]
  },
  {
   "cell_type": "markdown",
   "id": "f08bd156",
   "metadata": {},
   "source": [
    "توزیع نرمال = آزمون های پارامتری\n",
    "\n",
    "\n",
    "آزمون های ناپارامتری = توزیع غیر نرمال"
   ]
  },
  {
   "cell_type": "code",
   "execution_count": 12,
   "id": "a3b8efe8",
   "metadata": {},
   "outputs": [
    {
     "name": "stdout",
     "output_type": "stream",
     "text": [
      "mean=50.303 stdv=4.426\n"
     ]
    }
   ],
   "source": [
    "# تولید دیتای نرمال\n",
    "from numpy.random import seed\n",
    "from numpy.random import randn\n",
    "from numpy import mean\n",
    "from numpy import std\n",
    "\n",
    "# برای تولید دیتای تصادفی\n",
    "seed(1)\n",
    "\n",
    "# تولید مشاهدات تک متغیره\n",
    "data = 5 * randn(100) + 50\n",
    "\n",
    "# خلاصه سازی\n",
    "print('mean=%.3f stdv=%.3f' % (mean(data), std(data)))"
   ]
  },
  {
   "cell_type": "markdown",
   "id": "77a22b69",
   "metadata": {},
   "source": [
    "#### بررسی نرمال بودن با رسم نمودار "
   ]
  },
  {
   "cell_type": "code",
   "execution_count": 2,
   "id": "f71855d4",
   "metadata": {},
   "outputs": [
    {
     "data": {
      "image/png": "[encoded data removed]",
      "text/plain": [
       "<Figure size 432x288 with 1 Axes>"
      ]
     },
     "metadata": {
      "needs_background": "light"
     },
     "output_type": "display_data"
    }
   ],
   "source": [
    "# نمودار هیستوگرام\n",
    "from numpy.random import seed\n",
    "from numpy.random import randn\n",
    "from matplotlib import pyplot\n",
    "\n",
    "# تولید دیتای تصادفی\n",
    "seed(1)\n",
    "\n",
    "# تولید مشاهدات تک متغیره\n",
    "data = 5 * randn(100) + 50\n",
    "\n",
    "# رسم نمودار\n",
    "pyplot.hist(data)\n",
    "pyplot.show()"
   ]
  },
  {
   "cell_type": "code",
   "execution_count": 3,
   "id": "a3e3644a",
   "metadata": {},
   "outputs": [
    {
     "data": {
      "image/png": "[encoded data removed]",
      "text/plain": [
       "<Figure size 432x288 with 1 Axes>"
      ]
     },
     "metadata": {
      "needs_background": "light"
     },
     "output_type": "display_data"
    }
   ],
   "source": [
    "# Quantile-Quantile Plot (QQ plot)\n",
    "# q-q plot\n",
    "from numpy.random import seed\n",
    "from numpy.random import randn\n",
    "from statsmodels.graphics.gofplots import qqplot\n",
    "from matplotlib import pyplot\n",
    "\n",
    "seed(1)\n",
    "\n",
    "data = 5 * randn(100) + 50\n",
    "# q-q plot\n",
    "qqplot(data, line='s')\n",
    "pyplot.show()"
   ]
  },
  {
   "cell_type": "code",
   "execution_count": null,
   "id": "e5688b41",
   "metadata": {},
   "outputs": [],
   "source": []
  },
  {
   "cell_type": "markdown",
   "id": "2a81b441",
   "metadata": {},
   "source": [
    "#### آزمون های آماری نرمال بودن"
   ]
  },
  {
   "cell_type": "code",
   "execution_count": 4,
   "id": "32219e88",
   "metadata": {},
   "outputs": [
    {
     "name": "stdout",
     "output_type": "stream",
     "text": [
      "Statistics=0.992, p=0.822\n",
      "نمونه دارای توزیع نرمال است (عدم رد فرض اولیه)\n"
     ]
    }
   ],
   "source": [
    "#Shapiro-Wilk Test\n",
    "# مثال\n",
    "from numpy.random import seed\n",
    "from numpy.random import randn\n",
    "from scipy.stats import shapiro\n",
    "# تولید دیتای تصادفی\n",
    "seed(1)\n",
    "# تولید مشاهدات تک متغیره\n",
    "data = 5 * randn(100) + 50\n",
    "# آزمون نرمال بودن\n",
    "stat, p = shapiro(data)\n",
    "print('Statistics=%.3f, p=%.3f' % (stat, p))\n",
    "# interpret\n",
    "alpha = 0.05\n",
    "if p > alpha:\n",
    "    print('نمونه دارای توزیع نرمال است (عدم رد فرض اولیه)')\n",
    "else:\n",
    "    print('نمونه دارای توزیع نرمال نیست ( رد فرض اولیه)')"
   ]
  },
  {
   "cell_type": "code",
   "execution_count": 5,
   "id": "dcc5a77a",
   "metadata": {},
   "outputs": [
    {
     "name": "stdout",
     "output_type": "stream",
     "text": [
      "Statistics=0.102, p=0.950\n",
      "نمونه دارای توزیع نرمال است (عدم رد فرض اولیه)\n"
     ]
    }
   ],
   "source": [
    "#D'Agostino's K2 Test\n",
    "\n",
    "from numpy.random import seed\n",
    "from numpy.random import randn\n",
    "from scipy.stats import normaltest\n",
    "\n",
    "seed(1)\n",
    "\n",
    "data = 5 * randn(100) + 50\n",
    "# آزمون نرمال بودن\n",
    "stat, p = normaltest(data)\n",
    "print('Statistics=%.3f, p=%.3f' % (stat, p))\n",
    "# تحلیل آزمون\n",
    "alpha = 0.05\n",
    "if p > alpha:\n",
    "     print('نمونه دارای توزیع نرمال است (عدم رد فرض اولیه)')\n",
    "else:\n",
    "     print('نمونه دارای توزیع نرمال نیست ( رد فرض اولیه)')"
   ]
  },
  {
   "cell_type": "code",
   "execution_count": null,
   "id": "fd7b29a0",
   "metadata": {},
   "outputs": [],
   "source": []
  },
  {
   "cell_type": "markdown",
   "id": "438403b9",
   "metadata": {},
   "source": [
    "### آزمون های ناپارامتری\n",
    "\n",
    "1. آزمون من ویتنی - یو"
   ]
  },
  {
   "cell_type": "markdown",
   "id": "c7b028a1",
   "metadata": {},
   "source": [
    "از آزمون من ویتنی برای مقایسه استقلال دیتای نمونه استفاده میشود.\n",
    "ورژن ناپارامتریک تی تست استودنت"
   ]
  },
  {
   "cell_type": "code",
   "execution_count": 6,
   "id": "d5b8ca11",
   "metadata": {},
   "outputs": [
    {
     "name": "stdout",
     "output_type": "stream",
     "text": [
      "Statistics=4077.000, p=0.024\n",
      "دارای توزیع متفاوت ( رد فرضیه اولیه)\n"
     ]
    }
   ],
   "source": [
    "# مثال\n",
    "from numpy.random import seed\n",
    "from numpy.random import rand\n",
    "from scipy.stats import mannwhitneyu\n",
    "# تولید دیتای تصادفی\n",
    "seed(1)\n",
    "# تولید دو نمونه مستقل\n",
    "data1 = 50 + (rand(100) * 10)\n",
    "data2 = 51 + (rand(100) * 10)\n",
    "# مقایسه مشاهدات\n",
    "stat, p = mannwhitneyu(data1, data2)\n",
    "print('Statistics=%.3f, p=%.3f' % (stat, p))\n",
    "# تحلیل آزمون\n",
    "alpha = 0.05\n",
    "if p > alpha:\n",
    "    print('دارای توزیع مشابه (عدم رد فرضیه اولیه)')\n",
    "else:\n",
    "    print('دارای توزیع متفاوت ( رد فرضیه اولیه)')"
   ]
  },
  {
   "cell_type": "code",
   "execution_count": null,
   "id": "64b48dec",
   "metadata": {},
   "outputs": [],
   "source": []
  },
  {
   "cell_type": "markdown",
   "id": "ac1826f9",
   "metadata": {},
   "source": [
    "2. آزمون رتبه ای ویل کاکسون \n",
    "\n",
    "از این آزمون برای مقایسه دیتای دو متغیر استفاده میشود\n",
    " ورژن ناپارامتریک آزمون زوجی تی تست استودنت.\n"
   ]
  },
  {
   "cell_type": "code",
   "execution_count": 7,
   "id": "ceefeaf4",
   "metadata": {},
   "outputs": [
    {
     "name": "stdout",
     "output_type": "stream",
     "text": [
      "Statistics=1937.000, p=0.043\n",
      "دارای توزیع متفاوت ( رد فرضیه اولیه)\n"
     ]
    }
   ],
   "source": [
    "\n",
    "from numpy.random import seed\n",
    "from numpy.random import rand\n",
    "from scipy.stats import wilcoxon\n",
    "\n",
    "seed(1)\n",
    "\n",
    "data1 = 50 + (rand(100) * 10)\n",
    "data2 = 51 + (rand(100) * 10)\n",
    "# مقایسه نمونه ها\n",
    "stat, p = wilcoxon(data1, data2)\n",
    "print('Statistics=%.3f, p=%.3f' % (stat, p))\n",
    "# تحلیل  آزمون\n",
    "alpha = 0.05\n",
    "if p > alpha:\n",
    "    print('دارای توزیع مشابه (عدم رد فرضیه اولیه)')\n",
    "else:\n",
    "    print('دارای توزیع متفاوت ( رد فرضیه اولیه)')"
   ]
  },
  {
   "cell_type": "markdown",
   "id": "420ebb1f",
   "metadata": {},
   "source": [
    "3. آزمون کروسکال والیس"
   ]
  },
  {
   "cell_type": "code",
   "execution_count": 8,
   "id": "5c3a83fd",
   "metadata": {},
   "outputs": [
    {
     "name": "stdout",
     "output_type": "stream",
     "text": [
      "Statistics=34.747, p=0.000\n",
      "دارای توزیع متفاوت ( رد فرضیه اولیه)\n"
     ]
    }
   ],
   "source": [
    "from numpy.random import seed\n",
    "from numpy.random import rand\n",
    "from scipy.stats import kruskal\n",
    "\n",
    "seed(1)\n",
    "\n",
    "data1 = 50 + (rand(100) * 10)\n",
    "data2 = 51 + (rand(100) * 10)\n",
    "data3 = 52 + (rand(100) * 10)\n",
    "# مقایسه نمونه ها\n",
    "stat, p = kruskal(data1, data2, data3)\n",
    "print('Statistics=%.3f, p=%.3f' % (stat, p))\n",
    "# تحلیل  آزمون\n",
    "alpha = 0.05\n",
    "if p > alpha:\n",
    "    print('دارای توزیع مشابه (عدم رد فرضیه اولیه)')\n",
    "else:\n",
    "    print('دارای توزیع متفاوت ( رد فرضیه اولیه)')"
   ]
  },
  {
   "cell_type": "code",
   "execution_count": null,
   "id": "124db2ac",
   "metadata": {},
   "outputs": [],
   "source": []
  },
  {
   "cell_type": "markdown",
   "id": "c6645190",
   "metadata": {},
   "source": [
    "# نمونه گیری"
   ]
  },
  {
   "cell_type": "code",
   "execution_count": 11,
   "id": "9f0769c3",
   "metadata": {},
   "outputs": [
    {
     "data": {
      "text/plain": [
       "Index(['Target', 'Email'], dtype='object')"
      ]
     },
     "execution_count": 11,
     "metadata": {},
     "output_type": "execute_result"
    }
   ],
   "source": [
    "#خواندن دیتا\n",
    "import pandas as pd\n",
    "Email_Data = pd.read_csv(\"C:\\\\ML\\\\dataset\\\\SMSSpamCollection.txt\", sep= '\\t', header=None, names=[\"Target\", \"Email\"])\n",
    "\n",
    "Email_Data.columns\n"
   ]
  },
  {
   "cell_type": "code",
   "execution_count": 12,
   "id": "6dd54871",
   "metadata": {},
   "outputs": [
    {
     "data": {
      "text/html": [
       "<div>\n",
       "<style scoped>\n",
       "    .dataframe tbody tr th:only-of-type {\n",
       "        vertical-align: middle;\n",
       "    }\n",
       "\n",
       "    .dataframe tbody tr th {\n",
       "        vertical-align: top;\n",
       "    }\n",
       "\n",
       "    .dataframe thead th {\n",
       "        text-align: right;\n",
       "    }\n",
       "</style>\n",
       "<table border=\"1\" class=\"dataframe\">\n",
       "  <thead>\n",
       "    <tr style=\"text-align: right;\">\n",
       "      <th></th>\n",
       "      <th>Target</th>\n",
       "      <th>Email</th>\n",
       "    </tr>\n",
       "  </thead>\n",
       "  <tbody>\n",
       "    <tr>\n",
       "      <th>0</th>\n",
       "      <td>ham</td>\n",
       "      <td>Go until jurong point, crazy.. Available only ...</td>\n",
       "    </tr>\n",
       "    <tr>\n",
       "      <th>1</th>\n",
       "      <td>ham</td>\n",
       "      <td>Ok lar... Joking wif u oni...</td>\n",
       "    </tr>\n",
       "    <tr>\n",
       "      <th>2</th>\n",
       "      <td>spam</td>\n",
       "      <td>Free entry in 2 a wkly comp to win FA Cup fina...</td>\n",
       "    </tr>\n",
       "    <tr>\n",
       "      <th>3</th>\n",
       "      <td>ham</td>\n",
       "      <td>U dun say so early hor... U c already then say...</td>\n",
       "    </tr>\n",
       "    <tr>\n",
       "      <th>4</th>\n",
       "      <td>ham</td>\n",
       "      <td>Nah I don't think he goes to usf, he lives aro...</td>\n",
       "    </tr>\n",
       "  </tbody>\n",
       "</table>\n",
       "</div>"
      ],
      "text/plain": [
       "  Target                                              Email\n",
       "0    ham  Go until jurong point, crazy.. Available only ...\n",
       "1    ham                      Ok lar... Joking wif u oni...\n",
       "2   spam  Free entry in 2 a wkly comp to win FA Cup fina...\n",
       "3    ham  U dun say so early hor... U c already then say...\n",
       "4    ham  Nah I don't think he goes to usf, he lives aro..."
      ]
     },
     "execution_count": 12,
     "metadata": {},
     "output_type": "execute_result"
    }
   ],
   "source": [
    "Email_Data.head()"
   ]
  },
  {
   "cell_type": "code",
   "execution_count": 15,
   "id": "ca2f8c5e",
   "metadata": {},
   "outputs": [
    {
     "data": {
      "image/png": "[encoded data removed]",
      "text/plain": [
       "<Figure size 432x288 with 1 Axes>"
      ]
     },
     "metadata": {
      "needs_background": "light"
     },
     "output_type": "display_data"
    }
   ],
   "source": [
    "result=Email_Data['Target'].value_counts()\n",
    "result.plot(kind='bar', rot=0);"
   ]
  },
  {
   "cell_type": "code",
   "execution_count": 19,
   "id": "dbd9e8a7",
   "metadata": {},
   "outputs": [
    {
     "data": {
      "text/html": [
       "<div>\n",
       "<style scoped>\n",
       "    .dataframe tbody tr th:only-of-type {\n",
       "        vertical-align: middle;\n",
       "    }\n",
       "\n",
       "    .dataframe tbody tr th {\n",
       "        vertical-align: top;\n",
       "    }\n",
       "\n",
       "    .dataframe thead th {\n",
       "        text-align: right;\n",
       "    }\n",
       "</style>\n",
       "<table border=\"1\" class=\"dataframe\">\n",
       "  <thead>\n",
       "    <tr style=\"text-align: right;\">\n",
       "      <th></th>\n",
       "      <th>Target</th>\n",
       "      <th>Email</th>\n",
       "    </tr>\n",
       "  </thead>\n",
       "  <tbody>\n",
       "    <tr>\n",
       "      <th>4200</th>\n",
       "      <td>spam</td>\n",
       "      <td>cmon babe, make me horny, *turn* me on! Txt me...</td>\n",
       "    </tr>\n",
       "    <tr>\n",
       "      <th>4658</th>\n",
       "      <td>spam</td>\n",
       "      <td>PRIVATE! Your 2003 Account Statement for shows...</td>\n",
       "    </tr>\n",
       "    <tr>\n",
       "      <th>5110</th>\n",
       "      <td>spam</td>\n",
       "      <td>You have 1 new message. Please call 08715205273</td>\n",
       "    </tr>\n",
       "    <tr>\n",
       "      <th>2691</th>\n",
       "      <td>spam</td>\n",
       "      <td>sports fans - get the latest sports news str* ...</td>\n",
       "    </tr>\n",
       "    <tr>\n",
       "      <th>1940</th>\n",
       "      <td>spam</td>\n",
       "      <td>More people are dogging in your area now. Call...</td>\n",
       "    </tr>\n",
       "  </tbody>\n",
       "</table>\n",
       "</div>"
      ],
      "text/plain": [
       "     Target                                              Email\n",
       "4200   spam  cmon babe, make me horny, *turn* me on! Txt me...\n",
       "4658   spam  PRIVATE! Your 2003 Account Statement for shows...\n",
       "5110   spam    You have 1 new message. Please call 08715205273\n",
       "2691   spam  sports fans - get the latest sports news str* ...\n",
       "1940   spam  More people are dogging in your area now. Call..."
      ]
     },
     "execution_count": 19,
     "metadata": {},
     "output_type": "execute_result"
    }
   ],
   "source": [
    "# نمونه گیری\n",
    "spam = Email_Data[Email_Data['Target'] == 'spam'].sample(n=700)\n",
    "ham = Email_Data[Email_Data['Target'] == 'ham'].sample(n=700)\n",
    "\n",
    "spam.head"
   ]
  },
  {
   "cell_type": "code",
   "execution_count": 20,
   "id": "ea685453",
   "metadata": {},
   "outputs": [
    {
     "data": {
      "text/html": [
       "<div>\n",
       "<style scoped>\n",
       "    .dataframe tbody tr th:only-of-type {\n",
       "        vertical-align: middle;\n",
       "    }\n",
       "\n",
       "    .dataframe tbody tr th {\n",
       "        vertical-align: top;\n",
       "    }\n",
       "\n",
       "    .dataframe thead th {\n",
       "        text-align: right;\n",
       "    }\n",
       "</style>\n",
       "<table border=\"1\" class=\"dataframe\">\n",
       "  <thead>\n",
       "    <tr style=\"text-align: right;\">\n",
       "      <th></th>\n",
       "      <th>Target</th>\n",
       "      <th>Email</th>\n",
       "    </tr>\n",
       "  </thead>\n",
       "  <tbody>\n",
       "    <tr>\n",
       "      <th>4200</th>\n",
       "      <td>spam</td>\n",
       "      <td>cmon babe, make me horny, *turn* me on! Txt me...</td>\n",
       "    </tr>\n",
       "    <tr>\n",
       "      <th>4658</th>\n",
       "      <td>spam</td>\n",
       "      <td>PRIVATE! Your 2003 Account Statement for shows...</td>\n",
       "    </tr>\n",
       "    <tr>\n",
       "      <th>5110</th>\n",
       "      <td>spam</td>\n",
       "      <td>You have 1 new message. Please call 08715205273</td>\n",
       "    </tr>\n",
       "    <tr>\n",
       "      <th>2691</th>\n",
       "      <td>spam</td>\n",
       "      <td>sports fans - get the latest sports news str* ...</td>\n",
       "    </tr>\n",
       "    <tr>\n",
       "      <th>1940</th>\n",
       "      <td>spam</td>\n",
       "      <td>More people are dogging in your area now. Call...</td>\n",
       "    </tr>\n",
       "  </tbody>\n",
       "</table>\n",
       "</div>"
      ],
      "text/plain": [
       "     Target                                              Email\n",
       "4200   spam  cmon babe, make me horny, *turn* me on! Txt me...\n",
       "4658   spam  PRIVATE! Your 2003 Account Statement for shows...\n",
       "5110   spam    You have 1 new message. Please call 08715205273\n",
       "2691   spam  sports fans - get the latest sports news str* ...\n",
       "1940   spam  More people are dogging in your area now. Call..."
      ]
     },
     "execution_count": 20,
     "metadata": {},
     "output_type": "execute_result"
    }
   ],
   "source": [
    "new_dataset = spam.append(ham)\n",
    "new_dataset.head()"
   ]
  },
  {
   "cell_type": "code",
   "execution_count": 21,
   "id": "926e0bb1",
   "metadata": {},
   "outputs": [
    {
     "data": {
      "text/html": [
       "<div>\n",
       "<style scoped>\n",
       "    .dataframe tbody tr th:only-of-type {\n",
       "        vertical-align: middle;\n",
       "    }\n",
       "\n",
       "    .dataframe tbody tr th {\n",
       "        vertical-align: top;\n",
       "    }\n",
       "\n",
       "    .dataframe thead th {\n",
       "        text-align: right;\n",
       "    }\n",
       "</style>\n",
       "<table border=\"1\" class=\"dataframe\">\n",
       "  <thead>\n",
       "    <tr style=\"text-align: right;\">\n",
       "      <th></th>\n",
       "      <th>Target</th>\n",
       "      <th>Email</th>\n",
       "    </tr>\n",
       "  </thead>\n",
       "  <tbody>\n",
       "    <tr>\n",
       "      <th>3062</th>\n",
       "      <td>ham</td>\n",
       "      <td>What u talking bout early morning? It's almost...</td>\n",
       "    </tr>\n",
       "    <tr>\n",
       "      <th>1789</th>\n",
       "      <td>ham</td>\n",
       "      <td>Arun can u transfr me d amt</td>\n",
       "    </tr>\n",
       "    <tr>\n",
       "      <th>844</th>\n",
       "      <td>spam</td>\n",
       "      <td>Urgent! call 09066350750 from your landline. Y...</td>\n",
       "    </tr>\n",
       "    <tr>\n",
       "      <th>3154</th>\n",
       "      <td>ham</td>\n",
       "      <td>I tagged MY friends that you seemed to count a...</td>\n",
       "    </tr>\n",
       "    <tr>\n",
       "      <th>4611</th>\n",
       "      <td>ham</td>\n",
       "      <td>Just glad to be talking to you.</td>\n",
       "    </tr>\n",
       "  </tbody>\n",
       "</table>\n",
       "</div>"
      ],
      "text/plain": [
       "     Target                                              Email\n",
       "3062    ham  What u talking bout early morning? It's almost...\n",
       "1789    ham                        Arun can u transfr me d amt\n",
       "844    spam  Urgent! call 09066350750 from your landline. Y...\n",
       "3154    ham  I tagged MY friends that you seemed to count a...\n",
       "4611    ham                    Just glad to be talking to you."
      ]
     },
     "execution_count": 21,
     "metadata": {},
     "output_type": "execute_result"
    }
   ],
   "source": [
    "# نمونه گیری تصادفی ساده\n",
    "sample = Email_Data.sample(n=700)\n",
    "sample.head()"
   ]
  },
  {
   "cell_type": "code",
   "execution_count": null,
   "id": "90f1c09a",
   "metadata": {},
   "outputs": [],
   "source": []
  }
 ],
 "metadata": {
  "kernelspec": {
   "display_name": "Python 3 (ipykernel)",
   "language": "python",
   "name": "python3"
  },
  "language_info": {
   "codemirror_mode": {
    "name": "ipython",
    "version": 3
   },
   "file_extension": ".py",
   "mimetype": "text/x-python",
   "name": "python",
   "nbconvert_exporter": "python",
   "pygments_lexer": "ipython3",
   "version": "3.9.7"
  }
 },
 "nbformat": 4,
 "nbformat_minor": 5
}
