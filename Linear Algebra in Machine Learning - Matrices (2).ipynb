{
 "cells": [
  {
   "cell_type": "markdown",
   "metadata": {},
   "source": [
    "1. Transpose\n",
    "2. Inverse\n",
    "3. Trace\n",
    "4. Determinant"
   ]
  },
  {
   "cell_type": "code",
   "execution_count": 1,
   "metadata": {},
   "outputs": [
    {
     "name": "stdout",
     "output_type": "stream",
     "text": [
      "[[1 2]\n",
      " [3 4]\n",
      " [5 6]]\n",
      "[[1 3 5]\n",
      " [2 4 6]]\n"
     ]
    }
   ],
   "source": [
    "# transpose\n",
    "from numpy import array\n",
    "# ساخت ماتریس\n",
    "A = array([\n",
    "[1, 2],\n",
    "[3, 4],\n",
    "[5, 6]])\n",
    "print(A)\n",
    "# محاسبه \n",
    "C = A.T\n",
    "print(C)"
   ]
  },
  {
   "cell_type": "code",
   "execution_count": 3,
   "metadata": {},
   "outputs": [
    {
     "name": "stdout",
     "output_type": "stream",
     "text": [
      "[[1. 2.]\n",
      " [3. 4.]]\n",
      "[[-2.   1. ]\n",
      " [ 1.5 -0.5]]\n",
      "[[1.00000000e+00 1.11022302e-16]\n",
      " [0.00000000e+00 1.00000000e+00]]\n"
     ]
    }
   ],
   "source": [
    "# ماتریس معکوس\n",
    "from numpy import array\n",
    "from numpy.linalg import inv\n",
    "# ساخت ماتریس\n",
    "A = array([\n",
    "[1.0, 2.0],\n",
    "[3.0, 4.0]])\n",
    "print(A)\n",
    "# ساخت ماتریس معکوس\n",
    "B = inv(A)\n",
    "print(B)\n",
    "# ضرب A و B\n",
    "I = A.dot(B)\n",
    "print(I)"
   ]
  },
  {
   "cell_type": "code",
   "execution_count": 4,
   "metadata": {},
   "outputs": [
    {
     "name": "stdout",
     "output_type": "stream",
     "text": [
      "[[1 2 3]\n",
      " [4 5 6]\n",
      " [7 8 9]]\n",
      "15\n"
     ]
    }
   ],
   "source": [
    "# Trace\n",
    "\n",
    "from numpy import array\n",
    "from numpy import trace\n",
    "\n",
    "A = array([\n",
    "[1, 2, 3],\n",
    "[4, 5, 6],\n",
    "[7, 8, 9]])\n",
    "print(A)\n",
    "\n",
    "B = trace(A)\n",
    "print(B)"
   ]
  },
  {
   "cell_type": "code",
   "execution_count": 5,
   "metadata": {},
   "outputs": [
    {
     "name": "stdout",
     "output_type": "stream",
     "text": [
      "[[1 2 3]\n",
      " [4 5 6]\n",
      " [7 8 9]]\n",
      "6.66133814775094e-16\n"
     ]
    }
   ],
   "source": [
    "# دترمینان\n",
    "# دترمینان ماتریس\n",
    "from numpy import array\n",
    "from numpy.linalg import det\n",
    "# ساخت ماتریس\n",
    "A = array([\n",
    "[1, 2, 3],\n",
    "[4, 5, 6],\n",
    "[7, 8, 9]])\n",
    "print(A)\n",
    "# محاسبه دترمینان\n",
    "B = det(A)\n",
    "print(B)"
   ]
  }
 ],
 "metadata": {
  "kernelspec": {
   "display_name": "Python 3 (ipykernel)",
   "language": "python",
   "name": "python3"
  },
  "language_info": {
   "codemirror_mode": {
    "name": "ipython",
    "version": 3
   },
   "file_extension": ".py",
   "mimetype": "text/x-python",
   "name": "python",
   "nbconvert_exporter": "python",
   "pygments_lexer": "ipython3",
   "version": "3.10.4"
  }
 },
 "nbformat": 4,
 "nbformat_minor": 2
}
